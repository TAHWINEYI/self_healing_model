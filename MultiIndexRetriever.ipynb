{
 "cells": [
  {
   "cell_type": "markdown",
   "metadata": {},
   "source": [
    "### MultiIndexRetriever - Retrieve Full Documents using Documents Summary"
   ]
  },
  {
   "cell_type": "code",
   "execution_count": 1,
   "metadata": {},
   "outputs": [],
   "source": [
    "from langchain_community.document_loaders import TextLoader , DirectoryLoader\n",
    "from langchain.text_splitter import RecursiveCharacterTextSplitter\n",
    "from langchain_openai import ChatOpenAI\n",
    "\n",
    "\n",
    "loader = DirectoryLoader('./source', glob=\"./*.py\", loader_cls=TextLoader)\n",
    "docs = loader.load()"
   ]
  },
  {
   "cell_type": "code",
   "execution_count": 2,
   "metadata": {},
   "outputs": [
    {
     "data": {
      "text/plain": [
       "[Document(page_content=\"from datetime import datetime\\nfrom flask_login import LoginManager, UserMixin, login_user, logout_user, current_user\\nfrom werkzeug.security import generate_password_hash, check_password_hash\\nfrom app import db\\n\\nclass User(db.Model, UserMixin):\\n    id = db.Column(db.Integer, primary_key=True)\\n    username = db.Column(db.String(80), unique=True, nullable=False)\\n    password_hash = db.Column(db.String(100), nullable=False)\\n    emails = db.relationship('Email', backref='user', lazy='dynamic', foreign_keys='Email.sender_id')\\n    emails_received = db.relationship('Email', foreign_keys='Email.recipient_id', backref='recipient', lazy='dynamic')\\n\\n    def set_password(self, password):\\n        self.password_hash = generate_password_hash(password)\\n\\n    def check_password(self, password):\\n        return check_password_hash(self.password_hash, password)\\n\\nclass Email(db.Model):\\n    id = db.Column(db.Integer, primary_key=True)\\n    sender_id = db.Column(db.Integer, db.ForeignKey('user.id'), nullable=False)\\n    recipient_id = db.Column(db.Integer, db.ForeignKey('user.id'), nullable=False)\\n    subject = db.Column(db.String(200), index=True)\\n    body = db.Column(db.Text, nullable=False)\\n    timestamp = db.Column(db.DateTime, index=True, default=datetime.utcnow)\\n\\nclass Error(db.Model):\\n    id = db.Column(db.Integer, primary_key=True)\\n    code = db.Column(db.String(100), nullable=False)\\n    message = db.Column(db.Text, nullable=False)\\n    timestamp = db.Column(db.DateTime, nullable=False)\\n    email_id = db.Column(db.Integer, db.ForeignKey('email.id'), nullable=False)\", metadata={'source': 'source\\\\models.py'}),\n",
       " Document(page_content='from email.message import EmailMessage\\nimport smtplib\\nfrom flask import app, jsonify, request, redirect, url_for, render_template\\nfrom app.db import register_user\\nfrom app.models import Email, Error, User\\n\\n@login_manager.user_loader \\ndef load_user(user_id): \\n    return User.query.get(int(user_id)) \\n\\n@app.route(\\'/login\\', methods=[\\'POST\\']) \\ndef login(): \\n    data = request.get_json() \\n    user = User.query.filter_by(username=data[\\'username\\']).first() \\n    if user and user.check_password(data[\\'password\\']): \\n        login_user(user) \\n        return jsonify({\\'message\\': \\'Login successful\\'}), 200 \\n    else: \\n        return jsonify({\\'message\\': \\'Invalid username or password\\'}), 401                                                                                                                                  \\n\\n@app.route(\\'/register\\', methods=[\\'POST\\']) \\ndef register(): \\n    data = request.get_json() \\n    user = User(username=data[\\'username\\']) \\n    user.set_password(data[\\'password\\']) \\n    db.session.add(user) \\n    db.session.commit() \\n    return jsonify({\\'message\\': \\'User registered successfully\\'}), 201 \\n                                                                                                                                  \\n@bp.route(\\'/search\\', methods=[\\'GET\\'])\\ndef search_emails():\\n     query = request.args.get(\\'query\\')\\n     search = \"%{}%\".format(query)\\n     emails = Email.query.filter(Email.subject.like(search)).all()\\n     return render_template(\\'search_results.html\\', emails=emails)\\n                                                                                                                                                                                                                                                                 \\n@bp.route(\\'/outbox\\', methods=[\\'GET\\'])\\ndef show_outbox():\\n     # Sorting by timestamp in descending order so the newest emails come first\\n     emails = Email.query.order_by(Email.timestamp.desc()).all()\\n     return render_template(\\'inbox.html\\', emails=emails)\\n\\n@app.route(\\'/logout\\', methods=[\\'POST\\']) \\ndef logout(): \\n    logout_user() \\n    return jsonify({\\'message\\': \\'Logout successful\\'}), 200 \\n \\n@app.route(\\'/inbox\\', methods=[\\'GET\\']) \\ndef inbox(): \\n    emails = current_user.emails.order_by(Email.timestamp.desc()).all() \\n    return jsonify([email.to_dict() for email in emails]) \\n \\n@app.route(\\'/compose\\', methods=[\\'POST\\']) \\ndef compose(): \\n    data = request.get_json() \\n    email = Email( \\n        subject=data[\\'subject\\'], \\n        body=data[\\'body\\'], \\n        sender=current_user.username, \\n        recipient=data[\\'recipient\\'], \\n        timestamp=db.func.current_timestamp(), \\n        user_id=current_user.id \\n    ) \\n    db.session.add(email) \\n    db.session.commit() \\n \\n    msg = EmailMessage() \\n    msg[\\'Subject\\'] = email.subject \\n    msg[\\'From\\'] = email.sender \\n    msg[\\'To\\'] = email.recipient \\n    msg.set_content(email.body) \\n \\n    with smtplib.SMTP(\\'localhost\\', 25) as smtp: \\n        smtp.send_message(msg) \\n \\n    return jsonify({\\'message\\': \\'Email sent successfully\\'}), 200 ', metadata={'source': 'source\\\\routes.py'})]"
      ]
     },
     "execution_count": 2,
     "metadata": {},
     "output_type": "execute_result"
    }
   ],
   "source": [
    "docs"
   ]
  },
  {
   "cell_type": "code",
   "execution_count": 3,
   "metadata": {},
   "outputs": [],
   "source": [
    "import uuid\n",
    "\n",
    "from langchain_core.documents import Document\n",
    "from langchain_core.output_parsers import StrOutputParser\n",
    "from langchain_core.prompts import ChatPromptTemplate\n",
    "#from utils.llm import LLM\n",
    "llm = ChatOpenAI(model=\"gpt-4-1106-preview\")\n",
    "\n",
    "summ_prompt = ChatPromptTemplate.from_template(\"Summarize the following document in concise and meaningful manner:\\n {doc}\")\n",
    "#from utils.llm import LLM\n",
    "llm = ChatOpenAI(model=\"gpt-4-1106-preview\")\n",
    "#llm = LLM().get_llama_together()"
   ]
  },
  {
   "cell_type": "code",
   "execution_count": 4,
   "metadata": {},
   "outputs": [],
   "source": [
    "chain = (\n",
    "    {\"doc\": lambda x: x.page_content}\n",
    "    | summ_prompt\n",
    "    | llm\n",
    "    | StrOutputParser()\n",
    ")\n",
    "\n",
    "summaries = chain.batch(docs)"
   ]
  },
  {
   "cell_type": "code",
   "execution_count": 5,
   "metadata": {},
   "outputs": [
    {
     "data": {
      "text/plain": [
       "\"The document defines a Python module with classes for a database model using Flask, a web framework, and SQLAlchemy, an ORM (Object-Relational Mapping) tool. It includes imports for handling dates, user sessions, and password security.\\n\\nThe `User` class represents a user entity with an ID, username, and password hash stored in a database. It includes methods to set and verify passwords using hash functions. Each user can have a relationship with sent emails (`emails`) and received emails (`emails_received`), indicating a one-to-many relationship with the `Email` class.\\n\\nThe `Email` class represents an email entity with its own ID, sender ID, recipient ID, subject, body, and timestamp. It uses foreign keys to reference the `User` class for both the sender and recipient.\\n\\nThe `Error` class represents an error record with an ID, error code, message, timestamp, and a reference to an email ID, indicating a many-to-one relationship with the `Email` class.\\n\\nOverall, this module is designed to manage users, their email interactions, and related errors in a web application's backend.\""
      ]
     },
     "execution_count": 5,
     "metadata": {},
     "output_type": "execute_result"
    }
   ],
   "source": [
    "summaries[0]"
   ]
  },
  {
   "cell_type": "code",
   "execution_count": 6,
   "metadata": {},
   "outputs": [
    {
     "data": {
      "text/plain": [
       "'This document is a Python script that uses the Flask web framework to create a simple email web service with user authentication and email management functionalities. The script imports necessary modules for handling email sending and creating web routes.\\n\\n1. User authentication: It defines a `load_user` function to retrieve a user by ID. There are routes for user login and registration. The login route authenticates the user by checking the provided username and password, while the registration route adds a new user to the database.\\n\\n2. Email operations: It includes routes for composing, sending, viewing the inbox, viewing the outbox, and searching through emails. The compose route allows a user to create a new email, which is then sent using the SMTP protocol and added to the database. The inbox and outbox routes retrieve emails from the database and display them to the user. The search_emails function allows users to search for emails by subject.\\n\\n3. Session management: The script provides a logout route that logs out the current user. \\n\\nEach route returns an appropriate JSON response indicating the success or failure of the operation, along with an HTTP status code. The script also makes use of HTML templates for rendering the search results and the inbox.'"
      ]
     },
     "execution_count": 6,
     "metadata": {},
     "output_type": "execute_result"
    }
   ],
   "source": [
    "summaries[1]"
   ]
  },
  {
   "cell_type": "code",
   "execution_count": 7,
   "metadata": {},
   "outputs": [
    {
     "name": "stderr",
     "output_type": "stream",
     "text": [
      "c:\\Users\\LTahwineyi\\Desktop\\final_project\\LLM_RAG_Model_Deployment\\.conda\\Lib\\site-packages\\sentence_transformers\\cross_encoder\\CrossEncoder.py:11: TqdmWarning: IProgress not found. Please update jupyter and ipywidgets. See https://ipywidgets.readthedocs.io/en/stable/user_install.html\n",
      "  from tqdm.autonotebook import tqdm, trange\n",
      "c:\\Users\\LTahwineyi\\Desktop\\final_project\\LLM_RAG_Model_Deployment\\.conda\\Lib\\site-packages\\huggingface_hub\\file_download.py:1132: FutureWarning: `resume_download` is deprecated and will be removed in version 1.0.0. Downloads always resume when possible. If you want to force a new download, use `force_download=True`.\n",
      "  warnings.warn(\n"
     ]
    }
   ],
   "source": [
    "from langchain.embeddings import HuggingFaceBgeEmbeddings\n",
    "\n",
    "\n",
    "model_name = \"BAAI/bge-base-en-v1.5\"\n",
    "model_kwargs = {'device': 'cpu'}\n",
    "encode_kwargs = {'normalize_embeddings': True} # set True to compute cosine similarity\n",
    "embeddings = HuggingFaceBgeEmbeddings(\n",
    "    model_name=model_name,\n",
    "    model_kwargs=model_kwargs,\n",
    "    encode_kwargs=encode_kwargs,\n",
    ")"
   ]
  },
  {
   "cell_type": "code",
   "execution_count": 8,
   "metadata": {},
   "outputs": [],
   "source": [
    "from langchain.storage import InMemoryByteStore\n",
    "from langchain_community.vectorstores import Chroma\n",
    "from langchain.retrievers.multi_vector import MultiVectorRetriever\n",
    "\n",
    "# The vectorstore to use to index the child chunks\n",
    "vectorstore = Chroma(collection_name=\"summaries\",\n",
    "                     embedding_function=embeddings)\n",
    "\n",
    "# The storage layer for the parent documents\n",
    "store = InMemoryByteStore()\n",
    "id_key = \"doc_id\"\n",
    "\n",
    "# The retriever\n",
    "retriever = MultiVectorRetriever(\n",
    "    vectorstore=vectorstore,\n",
    "    byte_store=store,\n",
    "    id_key=id_key,\n",
    ")"
   ]
  },
  {
   "cell_type": "code",
   "execution_count": 9,
   "metadata": {},
   "outputs": [],
   "source": [
    "# creating doc ids which is to be stored as metadata in vectore store along with summaries\n",
    "doc_ids = [str(uuid.uuid4()) for _ in docs]\n",
    "\n",
    "# Docs linked to summaries\n",
    "summary_docs = [\n",
    "    Document(page_content=s, metadata={id_key: doc_ids[i]})\n",
    "    for i, s in enumerate(summaries)\n",
    "]\n",
    "\n",
    "# Add\n",
    "retriever.vectorstore.add_documents(summary_docs)\n",
    "retriever.docstore.mset(list(zip(doc_ids, docs)))"
   ]
  },
  {
   "cell_type": "code",
   "execution_count": 10,
   "metadata": {},
   "outputs": [
    {
     "data": {
      "text/plain": [
       "[Document(page_content=\"The document defines a Python module with classes for a database model using Flask, a web framework, and SQLAlchemy, an ORM (Object-Relational Mapping) tool. It includes imports for handling dates, user sessions, and password security.\\n\\nThe `User` class represents a user entity with an ID, username, and password hash stored in a database. It includes methods to set and verify passwords using hash functions. Each user can have a relationship with sent emails (`emails`) and received emails (`emails_received`), indicating a one-to-many relationship with the `Email` class.\\n\\nThe `Email` class represents an email entity with its own ID, sender ID, recipient ID, subject, body, and timestamp. It uses foreign keys to reference the `User` class for both the sender and recipient.\\n\\nThe `Error` class represents an error record with an ID, error code, message, timestamp, and a reference to an email ID, indicating a many-to-one relationship with the `Email` class.\\n\\nOverall, this module is designed to manage users, their email interactions, and related errors in a web application's backend.\", metadata={'doc_id': '8e02cfbc-0bee-4b15-bfe1-dc43563a02f8'})]"
      ]
     },
     "execution_count": 10,
     "metadata": {},
     "output_type": "execute_result"
    }
   ],
   "source": [
    "query = \"tell me about my data models\"\n",
    "sub_docs = vectorstore.similarity_search(query,k=1)\n",
    "sub_docs"
   ]
  },
  {
   "cell_type": "code",
   "execution_count": 11,
   "metadata": {},
   "outputs": [
    {
     "data": {
      "text/plain": [
       "'8e02cfbc-0bee-4b15-bfe1-dc43563a02f8'"
      ]
     },
     "execution_count": 11,
     "metadata": {},
     "output_type": "execute_result"
    }
   ],
   "source": [
    "sub_docs[0].metadata['doc_id']"
   ]
  },
  {
   "cell_type": "code",
   "execution_count": 12,
   "metadata": {},
   "outputs": [
    {
     "name": "stderr",
     "output_type": "stream",
     "text": [
      "c:\\Users\\LTahwineyi\\Desktop\\final_project\\LLM_RAG_Model_Deployment\\.conda\\Lib\\site-packages\\langchain_core\\_api\\deprecation.py:139: LangChainDeprecationWarning: The method `BaseRetriever.get_relevant_documents` was deprecated in langchain-core 0.1.46 and will be removed in 0.3.0. Use invoke instead.\n",
      "  warn_deprecated(\n",
      "Number of requested results 4 is greater than number of elements in index 2, updating n_results = 2\n"
     ]
    },
    {
     "name": "stdout",
     "output_type": "stream",
     "text": [
      "from datetime import datetime\n",
      "from flask_login import LoginManager, UserMixin, login_user, logout_user, current_user\n",
      "from werkzeug.security import generate_password_hash, check_password_hash\n",
      "from app import db\n",
      "\n",
      "class User(db.Model, UserMixin):\n",
      "    id = db.Column(db.Integer, primary_key=True)\n",
      "    username = db.Column(db.String(80), unique=True, nullable=False)\n",
      "    password_hash = db.Column(db.String(100), nullable=False)\n",
      "    emails = db.relationship('Email', backref='user', lazy='dynamic', foreign_keys='Email.sender_id')\n",
      "    emails_received = db.relationship('Email', foreign_keys='Email.recipient_id', backref='recipient', lazy='dynamic')\n",
      "\n",
      "    def set_password(self, password):\n",
      "        self.password_hash = generate_password_hash(password)\n",
      "\n",
      "    def check_password(self, password):\n",
      "        return check_password_hash(self.password_hash, password)\n",
      "\n",
      "class Email(db.Model):\n",
      "    id = db.Column(db.Integer, primary_key=True)\n",
      "    sender_id = db.Column(db.Integer, db.ForeignKey('user.id'), nullable=False)\n",
      "    recipient_id = db.Column(db.Integer, db.ForeignKey('user.id'), nullable=False)\n",
      "    subject = db.Column(db.String(200), index=True)\n",
      "    body = db.Column(db.Text, nullable=False)\n",
      "    timestamp = db.Column(db.DateTime, index=True, default=datetime.utcnow)\n",
      "\n",
      "class Error(db.Model):\n",
      "    id = db.Column(db.Integer, primary_key=True)\n",
      "    code = db.Column(db.String(100), nullable=False)\n",
      "    message = db.Column(db.Text, nullable=False)\n",
      "    timestamp = db.Column(db.DateTime, nullable=False)\n",
      "    email_id = db.Column(db.Integer, db.ForeignKey('email.id'), nullable=False)\n"
     ]
    }
   ],
   "source": [
    "retrieved_docs = retriever.get_relevant_documents(query,n_results=1)\n",
    "\n",
    "print(retrieved_docs[0].page_content)"
   ]
  },
  {
   "cell_type": "code",
   "execution_count": null,
   "metadata": {},
   "outputs": [],
   "source": []
  }
 ],
 "metadata": {
  "kernelspec": {
   "display_name": ".venv",
   "language": "python",
   "name": "python3"
  },
  "language_info": {
   "codemirror_mode": {
    "name": "ipython",
    "version": 3
   },
   "file_extension": ".py",
   "mimetype": "text/x-python",
   "name": "python",
   "nbconvert_exporter": "python",
   "pygments_lexer": "ipython3",
   "version": "3.11.9"
  }
 },
 "nbformat": 4,
 "nbformat_minor": 2
}
